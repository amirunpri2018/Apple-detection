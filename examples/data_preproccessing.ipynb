{
 "cells": [
  {
   "cell_type": "code",
   "execution_count": 263,
   "metadata": {},
   "outputs": [],
   "source": [
    "import glob\n",
    "import cv2\n",
    "import os\n",
    "import sys\n",
    "import numpy as np\n",
    "\n",
    "script_path = os.path.realpath(\"data_preprocessing.ipynb\")   # .ipynb file\n",
    "#script_path = os.path.abspath(os.path.dirname(sys.argv[0])) # .py file\n",
    "\n",
    "image_path = os.path.join(os.path.abspath(os.path.join(script_path, os.pardir, os.pardir)), \n",
    "                          'data/acfr-fruit-dataset/apples/images/')\n",
    "train_set = os.path.join(os.path.abspath(os.path.join(script_path, os.pardir, os.pardir)), \n",
    "                          'data/acfr-fruit-dataset/apples/sets/train.txt')\n",
    "val_set = os.path.join(os.path.abspath(os.path.join(train_set, os.pardir)), 'val.txt')\n",
    "test_set = os.path.join(os.path.abspath(os.path.join(test_set, os.pardir)), 'test.txt')\n",
    "\n",
    "export_path = os.path.join(os.path.abspath(os.path.join(image_path, os.pardir, os.pardir)), 'processed_images/')"
   ]
  },
  {
   "cell_type": "code",
   "execution_count": 264,
   "metadata": {},
   "outputs": [],
   "source": [
    "images = []\n",
    "with open(train_set) as f:\n",
    "    for name in f:\n",
    "        images.append(cv2.imread(os.path.join(image_path, name[:-1] + '.png'))) #name[:-1] to ignore \"\\n\"\n",
    "\n",
    "array_tensor = np.zeros([images[0].shape[0], images[0].shape[1], images[0].shape[2], len(images)])\n",
    "for n, sample in enumerate(images):\n",
    "    array_tensor[:,:,:,n] = sample"
   ]
  },
  {
   "cell_type": "code",
   "execution_count": 225,
   "metadata": {},
   "outputs": [
    {
     "name": "stdout",
     "output_type": "stream",
     "text": [
      "[135.19350556 121.36561177 104.94353401]\n"
     ]
    }
   ],
   "source": [
    "mean = array_tensor.mean(axis=(0,1,3))\n",
    "print(mean)"
   ]
  },
  {
   "cell_type": "code",
   "execution_count": 236,
   "metadata": {},
   "outputs": [
    {
     "name": "stdout",
     "output_type": "stream",
     "text": [
      "[83.95363659 84.9644354  83.54141148]\n"
     ]
    }
   ],
   "source": [
    "stand = array_tensor.std(axis=(0,1,3))\n",
    "print(stand)"
   ]
  },
  {
   "cell_type": "code",
   "execution_count": 208,
   "metadata": {},
   "outputs": [
    {
     "data": {
      "text/plain": [
       "(202, 308, 3)"
      ]
     },
     "execution_count": 208,
     "metadata": {},
     "output_type": "execute_result"
    }
   ],
   "source": [
    "(array_tensor[:,:,:,0] - mean)"
   ]
  },
  {
   "cell_type": "code",
   "execution_count": 214,
   "metadata": {},
   "outputs": [
    {
     "data": {
      "text/plain": [
       "133.46496078179246"
      ]
     },
     "execution_count": 214,
     "metadata": {},
     "output_type": "execute_result"
    }
   ],
   "source": [
    "array_tensor[:,:,:,0].mean()"
   ]
  },
  {
   "cell_type": "code",
   "execution_count": 237,
   "metadata": {},
   "outputs": [],
   "source": [
    "x = np.zeros([202, 308, 3, 896])\n",
    "for i in range(896):\n",
    "    x[:,:,:,i] = (array_tensor[:,:,:,i] - mean)/stand"
   ]
  },
  {
   "cell_type": "code",
   "execution_count": 276,
   "metadata": {},
   "outputs": [],
   "source": [
    "X = (array_tensor / 127.5) - 1"
   ]
  },
  {
   "cell_type": "code",
   "execution_count": 287,
   "metadata": {},
   "outputs": [],
   "source": [
    "X = (array_tensor - array_tensor.min()) / array_tensor.std()"
   ]
  },
  {
   "cell_type": "code",
   "execution_count": 288,
   "metadata": {},
   "outputs": [
    {
     "data": {
      "text/plain": [
       "(0.0, 1.3814080648631923, 2.962657140552683)"
      ]
     },
     "execution_count": 288,
     "metadata": {},
     "output_type": "execute_result"
    }
   ],
   "source": [
    "X.min(), X.mean(), X.max()"
   ]
  },
  {
   "cell_type": "code",
   "execution_count": 285,
   "metadata": {},
   "outputs": [
    {
     "data": {
      "text/plain": [
       "3.0"
      ]
     },
     "execution_count": 285,
     "metadata": {},
     "output_type": "execute_result"
    }
   ],
   "source": [
    "array_tensor.min()"
   ]
  },
  {
   "cell_type": "code",
   "execution_count": 286,
   "metadata": {},
   "outputs": [
    {
     "data": {
      "text/plain": [
       "255.0"
      ]
     },
     "execution_count": 286,
     "metadata": {},
     "output_type": "execute_result"
    }
   ],
   "source": [
    "array_tensor.max()"
   ]
  },
  {
   "cell_type": "code",
   "execution_count": null,
   "metadata": {},
   "outputs": [],
   "source": []
  }
 ],
 "metadata": {
  "kernelspec": {
   "display_name": "Python 3",
   "language": "python",
   "name": "python3"
  },
  "language_info": {
   "codemirror_mode": {
    "name": "ipython",
    "version": 3
   },
   "file_extension": ".py",
   "mimetype": "text/x-python",
   "name": "python",
   "nbconvert_exporter": "python",
   "pygments_lexer": "ipython3",
   "version": "3.6.8"
  }
 },
 "nbformat": 4,
 "nbformat_minor": 2
}
