{
 "cells": [
  {
   "cell_type": "code",
   "execution_count": 29,
   "metadata": {},
   "outputs": [],
   "source": [
    "import glob\n",
    "import cv2\n",
    "import os\n",
    "import sys\n",
    "import numpy as np\n",
    "import matplotlib.pyplot as plt\n",
    "from PIL import Image\n",
    "\n",
    "script_path = os.getcwd()   # .ipynb file\n",
    "\n",
    "image_path = os.path.join(os.path.join(script_path, os.pardir), 'data/images/')\n",
    "train_set = os.path.join(os.path.join(script_path, os.pardir), 'data/sets/train.txt')"
   ]
  },
  {
   "cell_type": "code",
   "execution_count": 59,
   "metadata": {},
   "outputs": [
    {
     "name": "stdout",
     "output_type": "stream",
     "text": [
      "(896, 202, 308, 3)\n"
     ]
    }
   ],
   "source": [
    "def read_image_bgr(path):\n",
    "    image = np.asarray(Image.open(path).convert('RGB'))\n",
    "    return image[:, :, ::-1].copy()\n",
    "\n",
    "\n",
    "image_batch = []\n",
    "with open(train_set) as f:\n",
    "    for n, name in enumerate(f):\n",
    "        image_batch.append(read_image_bgr(image_path + name[:-1] + '.png')) #name[:-1] to ignore \"\\n\"\n",
    "\n",
    "image_array = np.asarray(image_batch)\n",
    "print(image_array.shape) # Stored in BGR"
   ]
  },
  {
   "cell_type": "code",
   "execution_count": 73,
   "metadata": {},
   "outputs": [
    {
     "name": "stdout",
     "output_type": "stream",
     "text": [
      "Mean in B G R: [135.19350556 121.36561177 104.94353401]\n"
     ]
    }
   ],
   "source": [
    "mean = np.mean(image_array, axis=(0,1,2))\n",
    "print('Mean in B G R:', mean)"
   ]
  }
 ],
 "metadata": {
  "kernelspec": {
   "display_name": "Python 3",
   "language": "python",
   "name": "python3"
  },
  "language_info": {
   "codemirror_mode": {
    "name": "ipython",
    "version": 3
   },
   "file_extension": ".py",
   "mimetype": "text/x-python",
   "name": "python",
   "nbconvert_exporter": "python",
   "pygments_lexer": "ipython3",
   "version": "3.6.8"
  }
 },
 "nbformat": 4,
 "nbformat_minor": 2
}
